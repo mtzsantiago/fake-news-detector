{
 "cells": [
  {
   "cell_type": "code",
   "execution_count": 27,
   "id": "fc8bf186-4392-4126-abe7-e654cbae0517",
   "metadata": {},
   "outputs": [
    {
     "data": {
      "text/html": [
       "<div>\n",
       "<style scoped>\n",
       "    .dataframe tbody tr th:only-of-type {\n",
       "        vertical-align: middle;\n",
       "    }\n",
       "\n",
       "    .dataframe tbody tr th {\n",
       "        vertical-align: top;\n",
       "    }\n",
       "\n",
       "    .dataframe thead th {\n",
       "        text-align: right;\n",
       "    }\n",
       "</style>\n",
       "<table border=\"1\" class=\"dataframe\">\n",
       "  <thead>\n",
       "    <tr style=\"text-align: right;\">\n",
       "      <th></th>\n",
       "      <th>id</th>\n",
       "      <th>title</th>\n",
       "      <th>author</th>\n",
       "      <th>text</th>\n",
       "      <th>label</th>\n",
       "    </tr>\n",
       "  </thead>\n",
       "  <tbody>\n",
       "    <tr>\n",
       "      <th>0</th>\n",
       "      <td>0</td>\n",
       "      <td>House Dem Aide: We Didn’t Even See Comey’s Let...</td>\n",
       "      <td>Darrell Lucus</td>\n",
       "      <td>House Dem Aide: We Didn’t Even See Comey’s Let...</td>\n",
       "      <td>1</td>\n",
       "    </tr>\n",
       "    <tr>\n",
       "      <th>1</th>\n",
       "      <td>1</td>\n",
       "      <td>FLYNN: Hillary Clinton, Big Woman on Campus - ...</td>\n",
       "      <td>Daniel J. Flynn</td>\n",
       "      <td>Ever get the feeling your life circles the rou...</td>\n",
       "      <td>0</td>\n",
       "    </tr>\n",
       "    <tr>\n",
       "      <th>2</th>\n",
       "      <td>2</td>\n",
       "      <td>Why the Truth Might Get You Fired</td>\n",
       "      <td>Consortiumnews.com</td>\n",
       "      <td>Why the Truth Might Get You Fired October 29, ...</td>\n",
       "      <td>1</td>\n",
       "    </tr>\n",
       "    <tr>\n",
       "      <th>3</th>\n",
       "      <td>3</td>\n",
       "      <td>15 Civilians Killed In Single US Airstrike Hav...</td>\n",
       "      <td>Jessica Purkiss</td>\n",
       "      <td>Videos 15 Civilians Killed In Single US Airstr...</td>\n",
       "      <td>1</td>\n",
       "    </tr>\n",
       "    <tr>\n",
       "      <th>4</th>\n",
       "      <td>4</td>\n",
       "      <td>Iranian woman jailed for fictional unpublished...</td>\n",
       "      <td>Howard Portnoy</td>\n",
       "      <td>Print \\nAn Iranian woman has been sentenced to...</td>\n",
       "      <td>1</td>\n",
       "    </tr>\n",
       "  </tbody>\n",
       "</table>\n",
       "</div>"
      ],
      "text/plain": [
       "   id                                              title              author  \\\n",
       "0   0  House Dem Aide: We Didn’t Even See Comey’s Let...       Darrell Lucus   \n",
       "1   1  FLYNN: Hillary Clinton, Big Woman on Campus - ...     Daniel J. Flynn   \n",
       "2   2                  Why the Truth Might Get You Fired  Consortiumnews.com   \n",
       "3   3  15 Civilians Killed In Single US Airstrike Hav...     Jessica Purkiss   \n",
       "4   4  Iranian woman jailed for fictional unpublished...      Howard Portnoy   \n",
       "\n",
       "                                                text  label  \n",
       "0  House Dem Aide: We Didn’t Even See Comey’s Let...      1  \n",
       "1  Ever get the feeling your life circles the rou...      0  \n",
       "2  Why the Truth Might Get You Fired October 29, ...      1  \n",
       "3  Videos 15 Civilians Killed In Single US Airstr...      1  \n",
       "4  Print \\nAn Iranian woman has been sentenced to...      1  "
      ]
     },
     "execution_count": 27,
     "metadata": {},
     "output_type": "execute_result"
    }
   ],
   "source": [
    "# In this notebook, we'll clean up the dataset so we can use it for training.\n",
    "\n",
    "# Importing libraries\n",
    "import pandas as pd\n",
    "import numpy as np\n",
    "\n",
    "\n",
    "\n",
    "# Loading the dataset using Pandas\n",
    "df = pd.read_csv('data/train.csv')\n",
    "df.head()\n",
    "\n",
    "#Label 1: unreliable\n",
    "#Label 0: reliable"
   ]
  },
  {
   "cell_type": "code",
   "execution_count": 28,
   "id": "13e12f7c-f94e-4a63-b16c-4b9b9e69af10",
   "metadata": {},
   "outputs": [
    {
     "data": {
      "text/plain": [
       "(20800, 5)"
      ]
     },
     "execution_count": 28,
     "metadata": {},
     "output_type": "execute_result"
    }
   ],
   "source": [
    "# Pandas analysis of the entire dataset.\n",
    "df.shape  # Rows, columns"
   ]
  },
  {
   "cell_type": "code",
   "execution_count": 29,
   "id": "d680da46-ea21-4135-a4d2-9433999b74e7",
   "metadata": {},
   "outputs": [
    {
     "data": {
      "text/plain": [
       "id           0\n",
       "title      558\n",
       "author    1957\n",
       "text        39\n",
       "label        0\n",
       "dtype: int64"
      ]
     },
     "execution_count": 29,
     "metadata": {},
     "output_type": "execute_result"
    }
   ],
   "source": [
    "# Checking for nulls\n",
    "df.isnull().sum()"
   ]
  },
  {
   "cell_type": "code",
   "execution_count": 30,
   "id": "5fbccb17-2b68-4eeb-9de1-cb7d94432be7",
   "metadata": {},
   "outputs": [
    {
     "data": {
      "text/plain": [
       "label\n",
       "1    0.500625\n",
       "0    0.499375\n",
       "Name: proportion, dtype: float64"
      ]
     },
     "execution_count": 30,
     "metadata": {},
     "output_type": "execute_result"
    }
   ],
   "source": [
    "# Inspecting the label distribution in percentages\n",
    "df['label'].value_counts(normalize=True)  # 0 = reliable, 1 = unreliable"
   ]
  },
  {
   "cell_type": "code",
   "execution_count": 31,
   "id": "a9de86e5-69eb-4c39-9aed-5d88a4f57f14",
   "metadata": {},
   "outputs": [
    {
     "name": "stdout",
     "output_type": "stream",
     "text": [
      "FAKE:\n",
      " House Dem Aide: We Didn’t Even See Comey’s Letter Until Jason Chaffetz Tweeted It By Darrell Lucus on October 30, 2016 Subscribe Jason Chaffetz on the stump in American Fork, Utah ( image courtesy Michael Jolley, available under a Creative Commons-BY license) \n",
      "With apologies to Keith Olbermann, there is no doubt who the Worst Person in The World is this week–FBI Director James Comey. But according to a House Democratic aide, it looks like we also know who the second-worst person is as well. It t\n",
      "\n",
      "REAL:\n",
      " Ever get the feeling your life circles the roundabout rather than heads in a straight line toward the intended destination? [Hillary Clinton remains the big woman on campus in leafy, liberal Wellesley, Massachusetts. Everywhere else votes her most likely to don her inauguration dress for the remainder of her days the way Miss Havisham forever wore that wedding dress.  Speaking of Great Expectations, Hillary Rodham overflowed with them 48 years ago when she first addressed a Wellesley graduating \n"
     ]
    }
   ],
   "source": [
    "# Checking a sample fake and real article\n",
    "print(\"FAKE:\\n\", df[df['label'] == 1]['text'].iloc[0][:500])\n",
    "print(\"\\nREAL:\\n\", df[df['label'] == 0]['text'].iloc[0][:500])"
   ]
  },
  {
   "cell_type": "code",
   "execution_count": 32,
   "id": "a301419d-2d50-4552-8daf-919f31a286d0",
   "metadata": {},
   "outputs": [],
   "source": [
    "# Dropping rows with missing 'text', since they won't be useful for training\n",
    "df = df.dropna(subset=['text'])\n",
    "\n",
    "# Filling missing titles with empty string, so we can still use the text\n",
    "df['title'] = df['title'].fillna('')\n",
    "\n",
    "# Dropping the 'author' column, since it's not useful for training\n",
    "df = df.drop(columns=['author'])\n",
    "\n",
    "# Recreating the 'content' column now that nulls are handled\n",
    "df['content'] = df['title'] + ' ' + df['text']"
   ]
  },
  {
   "cell_type": "code",
   "execution_count": 33,
   "id": "c98bc425-f5db-4c76-93b8-46568b83589e",
   "metadata": {},
   "outputs": [
    {
     "data": {
      "text/plain": [
       "id         0\n",
       "title      0\n",
       "text       0\n",
       "label      0\n",
       "content    0\n",
       "dtype: int64"
      ]
     },
     "execution_count": 33,
     "metadata": {},
     "output_type": "execute_result"
    }
   ],
   "source": [
    "# Checking for nulls after cleaning\n",
    "df.isnull().sum()"
   ]
  },
  {
   "cell_type": "code",
   "execution_count": 34,
   "id": "51266b57-d788-49e7-81c9-787a245e6f32",
   "metadata": {},
   "outputs": [],
   "source": [
    "# Import necessary libraries\n",
    "import re                           # Regular expressions for text cleaning\n",
    "import nltk                         # Natural Language Toolkit for text processing\n",
    "from nltk.corpus import stopwords   # Common English stopwords\n",
    "from nltk.stem import WordNetLemmatizer  # Lemmatizer to reduce words to base form\n",
    "\n",
    "# Load English stopwords into a set for fast lookup\n",
    "stop_words = set(stopwords.words('english'))\n",
    "\n",
    "# Initialize the WordNet lemmatizer\n",
    "lemmatizer = WordNetLemmatizer()\n",
    "\n",
    "# Function to clean and preprocess text\n",
    "def clean_text(text):\n",
    "    # Convert text to lowercase\n",
    "    text = text.lower()\n",
    "    \n",
    "    # Remove all characters except lowercase letters and whitespace\n",
    "    text = re.sub(r'[^a-z\\s]', '', text)\n",
    "    \n",
    "    # Split text into individual words (tokens)\n",
    "    words = text.split()\n",
    "    \n",
    "    # Remove common stopwords (e.g., \"the\", \"is\", \"and\")\n",
    "    words = [word for word in words if word not in stop_words]\n",
    "    \n",
    "    # Lemmatize words (e.g., \"running\" → \"run\", \"cars\" → \"car\")\n",
    "    words = [lemmatizer.lemmatize(word) for word in words]\n",
    "    \n",
    "    # Join the cleaned words back into a single string\n",
    "    return ' '.join(words)"
   ]
  },
  {
   "cell_type": "code",
   "execution_count": 35,
   "id": "fe1071ae-9084-482c-a07c-9258a3dd38a2",
   "metadata": {},
   "outputs": [],
   "source": [
    "#The clean_text function is applied to the content column, and a new \"clean_content\" column is created\n",
    "\n",
    "df['clean_content'] = df['content'].apply(clean_text)"
   ]
  },
  {
   "cell_type": "code",
   "execution_count": 36,
   "id": "17cf96fe-c812-4425-a18c-387fd4622864",
   "metadata": {},
   "outputs": [
    {
     "data": {
      "text/html": [
       "<div>\n",
       "<style scoped>\n",
       "    .dataframe tbody tr th:only-of-type {\n",
       "        vertical-align: middle;\n",
       "    }\n",
       "\n",
       "    .dataframe tbody tr th {\n",
       "        vertical-align: top;\n",
       "    }\n",
       "\n",
       "    .dataframe thead th {\n",
       "        text-align: right;\n",
       "    }\n",
       "</style>\n",
       "<table border=\"1\" class=\"dataframe\">\n",
       "  <thead>\n",
       "    <tr style=\"text-align: right;\">\n",
       "      <th></th>\n",
       "      <th>id</th>\n",
       "      <th>title</th>\n",
       "      <th>text</th>\n",
       "      <th>label</th>\n",
       "      <th>content</th>\n",
       "      <th>clean_content</th>\n",
       "    </tr>\n",
       "  </thead>\n",
       "  <tbody>\n",
       "    <tr>\n",
       "      <th>0</th>\n",
       "      <td>0</td>\n",
       "      <td>House Dem Aide: We Didn’t Even See Comey’s Let...</td>\n",
       "      <td>House Dem Aide: We Didn’t Even See Comey’s Let...</td>\n",
       "      <td>1</td>\n",
       "      <td>House Dem Aide: We Didn’t Even See Comey’s Let...</td>\n",
       "      <td>house dem aide didnt even see comeys letter ja...</td>\n",
       "    </tr>\n",
       "    <tr>\n",
       "      <th>1</th>\n",
       "      <td>1</td>\n",
       "      <td>FLYNN: Hillary Clinton, Big Woman on Campus - ...</td>\n",
       "      <td>Ever get the feeling your life circles the rou...</td>\n",
       "      <td>0</td>\n",
       "      <td>FLYNN: Hillary Clinton, Big Woman on Campus - ...</td>\n",
       "      <td>flynn hillary clinton big woman campus breitba...</td>\n",
       "    </tr>\n",
       "    <tr>\n",
       "      <th>2</th>\n",
       "      <td>2</td>\n",
       "      <td>Why the Truth Might Get You Fired</td>\n",
       "      <td>Why the Truth Might Get You Fired October 29, ...</td>\n",
       "      <td>1</td>\n",
       "      <td>Why the Truth Might Get You Fired Why the Trut...</td>\n",
       "      <td>truth might get fired truth might get fired oc...</td>\n",
       "    </tr>\n",
       "    <tr>\n",
       "      <th>3</th>\n",
       "      <td>3</td>\n",
       "      <td>15 Civilians Killed In Single US Airstrike Hav...</td>\n",
       "      <td>Videos 15 Civilians Killed In Single US Airstr...</td>\n",
       "      <td>1</td>\n",
       "      <td>15 Civilians Killed In Single US Airstrike Hav...</td>\n",
       "      <td>civilian killed single u airstrike identified ...</td>\n",
       "    </tr>\n",
       "    <tr>\n",
       "      <th>4</th>\n",
       "      <td>4</td>\n",
       "      <td>Iranian woman jailed for fictional unpublished...</td>\n",
       "      <td>Print \\nAn Iranian woman has been sentenced to...</td>\n",
       "      <td>1</td>\n",
       "      <td>Iranian woman jailed for fictional unpublished...</td>\n",
       "      <td>iranian woman jailed fictional unpublished sto...</td>\n",
       "    </tr>\n",
       "    <tr>\n",
       "      <th>...</th>\n",
       "      <td>...</td>\n",
       "      <td>...</td>\n",
       "      <td>...</td>\n",
       "      <td>...</td>\n",
       "      <td>...</td>\n",
       "      <td>...</td>\n",
       "    </tr>\n",
       "    <tr>\n",
       "      <th>95</th>\n",
       "      <td>95</td>\n",
       "      <td>White House Confirms More Gitmo Transfers Befo...</td>\n",
       "      <td>President Barack Obama will likely release mor...</td>\n",
       "      <td>0</td>\n",
       "      <td>White House Confirms More Gitmo Transfers Befo...</td>\n",
       "      <td>white house confirms gitmo transfer obama leaf...</td>\n",
       "    </tr>\n",
       "    <tr>\n",
       "      <th>96</th>\n",
       "      <td>96</td>\n",
       "      <td>The Geometry of Energy and Meditation of Buddha</td>\n",
       "      <td>License DMCA \\nA mandala is a visual symbol of...</td>\n",
       "      <td>1</td>\n",
       "      <td>The Geometry of Energy and Meditation of Buddh...</td>\n",
       "      <td>geometry energy meditation buddha license dmca...</td>\n",
       "    </tr>\n",
       "    <tr>\n",
       "      <th>97</th>\n",
       "      <td>97</td>\n",
       "      <td>Poll: Most Voters Have Not Heard of Democratic...</td>\n",
       "      <td>There is a minefield of potential 2020 electio...</td>\n",
       "      <td>0</td>\n",
       "      <td>Poll: Most Voters Have Not Heard of Democratic...</td>\n",
       "      <td>poll voter heard democratic election candidate...</td>\n",
       "    </tr>\n",
       "    <tr>\n",
       "      <th>98</th>\n",
       "      <td>98</td>\n",
       "      <td>Migrants Confront Judgment Day Over Old Deport...</td>\n",
       "      <td>There are a little more than two weeks between...</td>\n",
       "      <td>0</td>\n",
       "      <td>Migrants Confront Judgment Day Over Old Deport...</td>\n",
       "      <td>migrant confront judgment day old deportation ...</td>\n",
       "    </tr>\n",
       "    <tr>\n",
       "      <th>99</th>\n",
       "      <td>99</td>\n",
       "      <td>M.I.T., N.Y.U. and Yale Are Sued Over Retireme...</td>\n",
       "      <td>Three prominent universities were sued on Tues...</td>\n",
       "      <td>0</td>\n",
       "      <td>M.I.T., N.Y.U. and Yale Are Sued Over Retireme...</td>\n",
       "      <td>mit nyu yale sued retirement plan fee new york...</td>\n",
       "    </tr>\n",
       "  </tbody>\n",
       "</table>\n",
       "<p>100 rows × 6 columns</p>\n",
       "</div>"
      ],
      "text/plain": [
       "    id                                              title  \\\n",
       "0    0  House Dem Aide: We Didn’t Even See Comey’s Let...   \n",
       "1    1  FLYNN: Hillary Clinton, Big Woman on Campus - ...   \n",
       "2    2                  Why the Truth Might Get You Fired   \n",
       "3    3  15 Civilians Killed In Single US Airstrike Hav...   \n",
       "4    4  Iranian woman jailed for fictional unpublished...   \n",
       "..  ..                                                ...   \n",
       "95  95  White House Confirms More Gitmo Transfers Befo...   \n",
       "96  96    The Geometry of Energy and Meditation of Buddha   \n",
       "97  97  Poll: Most Voters Have Not Heard of Democratic...   \n",
       "98  98  Migrants Confront Judgment Day Over Old Deport...   \n",
       "99  99  M.I.T., N.Y.U. and Yale Are Sued Over Retireme...   \n",
       "\n",
       "                                                 text  label  \\\n",
       "0   House Dem Aide: We Didn’t Even See Comey’s Let...      1   \n",
       "1   Ever get the feeling your life circles the rou...      0   \n",
       "2   Why the Truth Might Get You Fired October 29, ...      1   \n",
       "3   Videos 15 Civilians Killed In Single US Airstr...      1   \n",
       "4   Print \\nAn Iranian woman has been sentenced to...      1   \n",
       "..                                                ...    ...   \n",
       "95  President Barack Obama will likely release mor...      0   \n",
       "96  License DMCA \\nA mandala is a visual symbol of...      1   \n",
       "97  There is a minefield of potential 2020 electio...      0   \n",
       "98  There are a little more than two weeks between...      0   \n",
       "99  Three prominent universities were sued on Tues...      0   \n",
       "\n",
       "                                              content  \\\n",
       "0   House Dem Aide: We Didn’t Even See Comey’s Let...   \n",
       "1   FLYNN: Hillary Clinton, Big Woman on Campus - ...   \n",
       "2   Why the Truth Might Get You Fired Why the Trut...   \n",
       "3   15 Civilians Killed In Single US Airstrike Hav...   \n",
       "4   Iranian woman jailed for fictional unpublished...   \n",
       "..                                                ...   \n",
       "95  White House Confirms More Gitmo Transfers Befo...   \n",
       "96  The Geometry of Energy and Meditation of Buddh...   \n",
       "97  Poll: Most Voters Have Not Heard of Democratic...   \n",
       "98  Migrants Confront Judgment Day Over Old Deport...   \n",
       "99  M.I.T., N.Y.U. and Yale Are Sued Over Retireme...   \n",
       "\n",
       "                                        clean_content  \n",
       "0   house dem aide didnt even see comeys letter ja...  \n",
       "1   flynn hillary clinton big woman campus breitba...  \n",
       "2   truth might get fired truth might get fired oc...  \n",
       "3   civilian killed single u airstrike identified ...  \n",
       "4   iranian woman jailed fictional unpublished sto...  \n",
       "..                                                ...  \n",
       "95  white house confirms gitmo transfer obama leaf...  \n",
       "96  geometry energy meditation buddha license dmca...  \n",
       "97  poll voter heard democratic election candidate...  \n",
       "98  migrant confront judgment day old deportation ...  \n",
       "99  mit nyu yale sued retirement plan fee new york...  \n",
       "\n",
       "[100 rows x 6 columns]"
      ]
     },
     "execution_count": 36,
     "metadata": {},
     "output_type": "execute_result"
    }
   ],
   "source": [
    "df.head(100)\n",
    "\n",
    "# Clean_content is lowercase and lemmatized for better training."
   ]
  },
  {
   "cell_type": "code",
   "execution_count": 25,
   "id": "089a47c8-42d5-475e-9bc6-b120de37bffc",
   "metadata": {},
   "outputs": [
    {
     "name": "stdout",
     "output_type": "stream",
     "text": [
      "Before:\n",
      " House Dem Aide: We Didn’t Even See Comey’s Letter Until Jason Chaffetz Tweeted It House Dem Aide: We Didn’t Even See Comey’s Letter Until Jason Chaffetz Tweeted It By Darrell Lucus on October 30, 2016 Subscribe Jason Chaffetz on the stump in American Fork, Utah ( image courtesy Michael Jolley, available under a Creative Commons-BY license) \n",
      "With apologies to Keith Olbermann, there is no doubt who the Worst Person in The World is this week–FBI Director James Comey. But according to a House Democr\n",
      "\n",
      "After:\n",
      " house dem aide didnt even see comeys letter jason chaffetz tweeted house dem aide didnt even see comeys letter jason chaffetz tweeted darrell lucus october subscribe jason chaffetz stump american fork utah image courtesy michael jolley available creative commonsby license apology keith olbermann doubt worst person world weekfbi director james comey according house democratic aide look like also know secondworst person well turn comey sent nowinfamous letter announcing fbi looking email may relat\n"
     ]
    }
   ],
   "source": [
    "# Demonstration of the effect of cleaning the text\n",
    "\n",
    "print(\"Before:\\n\", df['content'].iloc[0][:500])\n",
    "print(\"\\nAfter:\\n\", df['clean_content'].iloc[0][:500])"
   ]
  },
  {
   "cell_type": "code",
   "execution_count": 37,
   "id": "c75edd0c-02c4-4802-9322-82629fb3005d",
   "metadata": {},
   "outputs": [],
   "source": [
    "# Saving the clean dataset\n",
    "\n",
    "df.to_csv('data/processed.csv', index=False)\n",
    "\n",
    "# Data is now cleaned and ready for vectorization"
   ]
  }
 ],
 "metadata": {
  "kernelspec": {
   "display_name": "Python 3 (ipykernel)",
   "language": "python",
   "name": "python3"
  },
  "language_info": {
   "codemirror_mode": {
    "name": "ipython",
    "version": 3
   },
   "file_extension": ".py",
   "mimetype": "text/x-python",
   "name": "python",
   "nbconvert_exporter": "python",
   "pygments_lexer": "ipython3",
   "version": "3.12.3"
  }
 },
 "nbformat": 4,
 "nbformat_minor": 5
}
